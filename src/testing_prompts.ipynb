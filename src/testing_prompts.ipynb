{
 "cells": [
  {
   "cell_type": "code",
   "execution_count": 1,
   "metadata": {},
   "outputs": [],
   "source": [
    "usernames = [\"LADataJunkie\", \"brokenjago\", \"maddiepig\", \"Laserpigeons\", \"Alec11\"]"
   ]
  },
  {
   "cell_type": "code",
   "execution_count": 2,
   "metadata": {},
   "outputs": [],
   "source": [
    "import reddit_data\n",
    "\n",
    "user_content = {}\n",
    "for user in usernames:\n",
    "    user_content[user] = {\n",
    "        \"posts\": [(post[\"submission_title\"], post[\"submission_content\"]) for post in reddit_data.getAllUserPosts(username=user, count=5)],\n",
    "        \"comments\": [(comment[\"submission_or_parent_content\"],\n",
    "                         comment[\"comment_content\"]) for comment in reddit_data.getAllUserComments(username=user, count=5)]\n",
    "    }"
   ]
  },
  {
   "cell_type": "code",
   "execution_count": 3,
   "metadata": {},
   "outputs": [
    {
     "data": {
      "text/plain": [
       "{'LADataJunkie': {'posts': [('New Devices Bypassing APs in Favor of U6-LR',\n",
       "    'So this is a new one. I recently installed the U6-LR. I only have a couple of devices that are Wifi 6 compatible such as a Pixel 6 Pro and a new MacBook Pro.\\n\\nAbout 100 feet away, I have a Flex HD which does not use Wifi 6.\\n\\nThe MBP and Pixel 6 Pro get very poor signal because they remain connected to the U6-LR whereas before, when I had a NanoHD, these devices would bounce around and eventually end up on the FlexHD.\\n\\nIs there a way I can prevent these devices from being stuck on the LR?'),\n",
       "   ('MK3 Has Started Blobbing',\n",
       "    'My MK3 had been working perfectly. It went into some disuse and now I can\\'t print without a Crash. It happens due to blobs of filament randomly appearing and then getting worse.\\n\\nFrom what I\\'ve read, the prevailing wisdom seems to be that the \"nozzle is not installed correctly\"; however, this is the same nozzle I\\'ve always had. The solution seemed to be to repeat the installation directions for the nozzle, hot end and heat break.\\n\\nWhat are some things I should check with a long assembled machine? Should I remove the nozzle and melt out any filament in the heat block? Should I just try to tighten the nozzle? Do I have to take the extruder apart to fix this? It does seem that filament is coming from above the heat block. Not sure how this could have happened over time.\\n\\n&#x200B;\\n\\nhttps://preview.redd.it/acdm0jq6i8ga1.jpg?width=2409&format=pjpg&auto=webp&v=enabled&s=960886a5dcbc391581e1bc3f0744668aabc6ced0'),\n",
       "   ('House Has No Privacy -- Ready to Sell, Not Sure Anything Left to Try',\n",
       "    \"I have a vacation house in the mountains that I live in during summer. I made some serious mistakes when I bought this house and I should have known better. I bought next to an empty parcel (there are lots in this neighborhood) and I assumed the other neighbors would remain the same. I also didn't study the neighborhood in good weather where everyone lives outside and in everyone else's business.\\n\\n**This lot has zero privacy.** It's tucked back away from the street so I have a large front yard and a small backyard. Naturally most of my time is spent in the front yard. Both neighbors' main social patios face directly into my front yard. One also has a second floor balcony they are constantly on and their kitchen area is on the second floor and so when I am in my driveway they literally look down at me (it was a vacation home when I bought). I have some trees, but with each wind event, the trees are falling. I constantly feel watched, and I know that I am, because the neighbors bring up things they see me do.\\n\\nOf course to make matters much worse, the empty lot out back was built on and the people are constantly in their backyard and feel fewer than 20 feet away from me even when I am inside the house. This past summer I built a wooden fence with deep stakes and concrete for about $3000, to block them out. Since this is the mountains, there is a lot of wind and we tried to protect against that. When I woke up this morning, I saw that my $3000 was flushed down the toilet. The fence was completely destroyed. As soon as I saw it, I said we were packing up and leaving. This was pretty much the last straw. When we arrived last night (we stayed less than 24 hours), the garage was completely destroyed by a family of mice. This house has constant bad luck.\\n\\nI have zero privacy, I am completely exposed. I tried to fix that with the fence, and I can't even have that. I feel like my only option here is to sell this house and look for a larger lot. Is there anything else worth trying if I decide to throw away another $3000 for a fence? I fear trees will also blow over.\"),\n",
       "   ('Neighbors Constantly Asking for Access to My Property',\n",
       "    'My neighbors are pretty overbearing. Their kids throw loud parties, their dogs bark constantly, and they have cut down every tree along the property line leaving absolutely no privacy, and have installed every possible obnoxious structure along the property line to encourage constant noise, odors and flies to come onto my property.\\n\\nNow they have started something new. \\n\\nThey constantly ask for access to my property. They will spy on what is in my backyard. One time it was a pile of firewood that I wasn\\'t using. They asked to bring their truck through my property to collect the firewood to use for an \"art project.\" I said no. It would require me to move multiple vehicles in my driveway, and in the backyard so she can fit her truck through the gate. Stay on your own land, and if you want to do an art project, get firewood yourself.\\n\\nNow they are back again. Now she wants rocks from the creek out back (behind my property) for an \"art project.\" SHE HAS ACCESS TO THE CREEK from her own property but claims it\\'s \"too hard\" to access the creek (just use a damn wheelbarrow!) and asked my dad (who is watching the house) to move all of our cars so she could drive her truck back there to get the damn rocks. And she requested to do it NOW at 9am. I wasn\\'t there to stop it, but my dad (who is a complete pushover) said yes and I am so angry with him. I never ask anything of these people. They took away my privacy and also blocked off access to a walking trail that I have had access to for over 20 years. They constantly ask for favors and just take take take and make my life miserable, and my father just rolls over and always acquiesces to them. I think this will be the last time I let him stay here when I am out of town.\\n\\nThese people have some kind of sick need for control. They have to be able to see into my yard at all times (cutting down all trees... but then they asked me NOT to chop down a tree on my property because it provided shade for their horses... I told them to pound sand), they have to come into my yard for \"art projects\", they have to build every obnoxious structure right next to my property line (a pool which brings constant noise, a chicken coop which brings constant noise, a horse stable that produces constant odors and flies). It\\'s miserable. It has caused so many fights with my dad because he is such a damn pushover and asks me to appease them to \"be a good neighbor.\" I think I need to cut ties with him. Too much of a pushover for me. Anybody else have weirdos like this next door to them?'),\n",
       "   ('Accidentally Bought UDMP Instead of UDMPSE: Should I return based on my use case?',\n",
       "    'I made a mistake and accidentally bought the UDMP instead of the UDMPSE. I am trying to decide if I should send this thing back within 14 days (opened) and eat the 15% restocking fee, or keep it. I am trying to read through all of the discussions on the difference between the two and figured I would just lay out my use case and ask for help. \\n\\nRight now, I have two of the 8-port 60W PoE switches, one for the west side of the house, and one for the east side. They would both be plugged into the UDMP via CAT6. All of the access points are connected to the PoE switches. For the most part, the two wings of the house are isolated except for printing and an occasional large file transfer... with one exception. I have an NVR on the East side that always replicates data to a ZoneMinder server on the west side, and I might want to put these onto a VLAN at some point. My Internet connection is 400Mbps with no hope of going above 1Gbps; however, my vacation home which currently has a UDM Pro *does* have a 1Gbps fiber link that might be upgraded at some point, so perhaps it\\'s useful.\\n\\nIt sounds like cross LAN traffic is not an issue with the backplane, but inter VLAN traffic might be bottlenecked as will traffic that originates from both sides of the house simultaneously to the Internet/WAN. I am guessing this might be an issue when I am working in the west side, and my family is watching YouTube TV and using the wifi on the east side. \\n\\nReasons why I feel icky with the UDMP:\\n\\n* It has 8 ports and I am only using 2. I *could* use more of the ports if they had PoE, for my PiHole and some other devices that I feel (perhaps incorrectly) should be \"closer to the Internet\" rather than off one of the switches, like my two servers.\\n* I am already wasting so much money on this thing that has an NVR that I won\\'t even use. If I am going to do that, I might as well try to maximize usage of the ports.\\n\\nReasons why I feel icky with the UDMPSE:\\n\\n* It\\'s $120 more (plus the restocking fee and the possibility that I might have to pay to ship it back and then also pay to have the UDMPSE shipped) for the same wasted NVR, and still wasting a decent number of ports. \\n* I may need PoE+. I don\\'t know.\\n\\nIt\\'s unclear if some of my concerns are not technically sound. Should I stick with the UDMP, or is the SE that much better?')],\n",
       "  'comments': [('',\n",
       "    'I just saw this post as we were leaving the Promenade -- TO Blvd is still closed. How horrible. No words.'),\n",
       "   ('', 'It will be upheld by the Trump Supreme Court.'),\n",
       "   ('',\n",
       "    \"It's going to be Kari Lake, and she is going to win it. Sinema will make certain of it.\"),\n",
       "   ('My son’s mother just recently received an offer of employment from Southwest as a flight attendant. I am so happy for her. \\n\\nHowever, she has reached the background portion and we are concerned (I want to keep this brief). In 2015 her and I got in an argument. It was all VERBAL. Never PHYSICAL at all. I was drunk. She threatened to call the police on me. I called the police first, because being drunk and childish I thought if I did first I would be safe from going to jail or whatever.\\n\\nLong story short-we both went to jail for a few hours. We bonded out. After that, there were no charges. We didn’t have a court date for nor about anything. It was over.\\n\\nNow, she’s received an email from Southwest’s 3rd party screening company. Basically, it said this situation could preclude her from employment. The charges were: 1. Criminal Mischief, 2. Assault, and 3. Disturbing the peace.\\n\\nI didn’t press charges. We didn’t receive tickets. And we didn’t go to court for any of these things. \\n\\nI hope & pray she is allowed to explain this. I hope she doesn’t have to. She is a great, kind, & respectable woman. I want this job for her so bad.',\n",
       "    \"I don't understand. No charges were filed. Why is the background check company saying there were charges? That seems like the bigger issue here. I could understand if they still cared about the matter, but their information seems to actually be incorrect.\"),\n",
       "   ('I live in Oregon and recently visited family in California. I flew Avelo from Eugene to Burbank. As expected, got nickeled and dimed for every upgrade. Nbd.\\n\\nI\\'m looking at making the trip more often, and found that Avelo was a little pricier than I wanted for the next time I wanted to go. However, EUG to BUR is only like, $109? AND it seems like I\\'m not getting nickel and dimed?\\n\\nI can\\'t find anything in their documentation that makes me go, \"Ah ha! That\\'s where they get me!\"\\n\\nSo... What gives? What am I missing?',\n",
       "    \"I can't think of monetary catch that Southwest could pull, except giving you a lousy boarding position that you optionally pay to upgrade, but even that is pretty cheap.\\n\\nIf flights to Eugene are that low, depending on how often the flight operates, it might be on its way out.\")]},\n",
       " 'brokenjago': {'posts': [(\"Don't understand University Apartment Wifi and how it works? I've compiled this handy guide to explain it.\",\n",
       "    \"[Here it is.](https://drive.google.com/file/d/11LCe4YCj0-5knhW1amaHwpJwipO5obUD/view?usp=sharing)\\n\\nShare with whomever you'd like. I updated it with a quickstart guide, but I strongly recommend reading the whole thing.\"),\n",
       "   ('[TASK] Take an AI of my logo and turn it into a 3D printable STL - $15',\n",
       "    \"Hello,\\n\\nI have an .ai logo that I'd like you to modify (fill in 5 gaps with a solid color and turn into two-tone logo) Then, I'd like you to import it into your 3D editor of choice as a trace and extrude two basic layers (the base red layer and the letters themselves in yellow.)\\n\\nPlease communicate your experience and the exact applications you'll be using to perform this task; I had a bad experience trying to get good results from bidders in previous attempts. Deliverables are the editable 3D file (for example, a blender file should you use that) and the final STL suitable for slicing. I can pay via Paypal, Venmo, Cash App, or Zelle on final delivery.\\n\\nYou **must** $bid on this post to be eligible to accept this job. DMs without an associated $bid will be ignored.\"),\n",
       "   ('PSA for incoming students: Get from LAX to UCLA on one bus for $1',\n",
       "    \"Many students don't seem to know this, but there is a bus that goes directly from the LAX City Bus Center (which has a free shuttle to and from the terminals to it) directly to the end of Westwood Plaza, near Ackerman Union and Engineering IV & VI.\\n\\nFirst, once you've exited your terminal, wait for the free shuttle that goes to the City Bus Center. (You can ask the drivers, they know where they're going, but the sign above the windshield says so too.) This can be the most confusing part, because there are like 6 different shuttles that all go to different places. Make sure you get the one that says City Bus Center.\\n\\nThe city bus center is the last stop for the shuttle before it turns back toward LAX, so it's reasonably easy to discern when to get off. Then, you wait for the northbound [Culver City Bus 6 or Rapid 6](https://www.culvercitybus.com/Bus-Schedules/Line-6-Sepulveda-Blvd) and pay the $1 fare. It will take you directly to UCLA, [just a hundred feet or so away from Ackerman Union and Engineering IV & VI.](https://www.google.com/maps/place/UCLA+Gateway+Plaza/@34.068555,-118.444483,18z/data=!4m5!3m4!1s0x0:0x883857195519815b!8m2!3d34.0683177!4d-118.4448187?hl=en) It's an easy walk to the dorms or apartments from there.\\n\\nDon't take a $50 Uber or Lyft when you can spend maybe half an hour more and save $49 or more. I did this just recently and all the stops are called out by a computer, so you always know where you are and when to get off. It runs from 5am-Midnight every day. (ALWAYS CHECK SCHEDULES BEFOREHAND TO CONFIRM)\\n\\nThis works in the reverse too: need to fly out of LAX? Head to Gateway Plaza and pay $1 to catch your flight!\"),\n",
       "   ('[Westwood] Nail salons specializing in nail biters?',\n",
       "    'I know people say \"Just stop biting your nails!\" But I\\'ve been changing my eating habits and my constant hunger compulsively sends me to biting my nails, and I just can\\'t seem to stop for enough time to get any growth. I will happily pay *double* to find a manicurist who will serve me as best as they can; I\\'ll also be forgiving, especially with the first few applications. Eventually, I\\'ll become an excellent, loyal repeat customer. I just need to find a place that won\\'t turn me away!\\n\\nAnyone know of any place good? I have a car, so I\\'ll travel wherever if need be.\\n\\nThanks!')],\n",
       "  'comments': [(\"Hi! I want to do summer school for this year, but I didn't pick the summer option when I applied for FAFSA for the academic year of 2023-2024, will I still be able to do it if I didn't pick that option? Or is it the same/different as the ucla summer financial aid here: [https://financialaid.ucla.edu/special-aid-programs/summer-aid](https://financialaid.ucla.edu/special-aid-programs/summer-aid) ? thank you\",\n",
       "    'You apply for the 23-24 FAGSA then fill out the summer aid form and you’re good'),\n",
       "   ('Hey so I haven’t received any emails from UCLA Admissions since February and have checked my status multiple times since… Safe to say I’m rejected? It just says application received still',\n",
       "    'Transfer decisions haven’t been released. Probably the 26th?'),\n",
       "   ('Hey so I haven’t received any emails from UCLA Admissions since February and have checked my status multiple times since… Safe to say I’m rejected? It just says application received still',\n",
       "    'Are you a transfer?'),\n",
       "   (\"Like I don't know what the fuck they're doing and literally nothing in my student life has any relation to them and I think it's ridiculous that I am FORCED to pay them money as part of my tuition.\",\n",
       "    'The only way I know of to defund USAC is to join USAC and defeat them from within.'),\n",
       "   ('', 'Talk to your NSA! As a fellow CSE sorry to see you go though!')]},\n",
       " 'maddiepig': {'posts': [('Classes to take in your last quarter',\n",
       "    'Im a senior this year and spring 2023 will be my last quarter. What classes/ professors (preferably offered in spring) have inspired you the most and/or made you think “everyone needs to take this class” ?'),\n",
       "   ('OVEN AT UNIVERSITY APARTMENTS',\n",
       "    'These ovens have a knob with no temperature. I tried finding the manuel online and calling the front desk but they have no idea what the temperature is. Does anyone know how to control the temperature on the oven?'),\n",
       "   ('OVEN QUALITY AT UCLA APARTMENTS',\n",
       "    'Alright so I’ve established that an air fryer is just the convention baking setting on an oven, but now i am not sure if i should get a toaster or a toaster oven. The toaster oven has the added bonus of baking things in it, but if the apartment comes with an oven then i dont really need to spend the extra $$ on that. However, if the ovens are shitty i would probably get a toaster oven. Does anyone have any information pertaining to the oven quality in the ucla owned apartments? \\n(I will be in glenrock, also if u have any insight on the kitchen quality and general and tips on kitchen appliances you think are a must-have please lmk!!)'),\n",
       "   ('Resources to improve written communication skills',\n",
       "    'Does anyone have any good resources (books, courses, etc) that can help improve written communication skills? I have a hard time writing concisely and clearly to a non-technical audience and really want to develop my written communication skills. Thanks!'),\n",
       "   ('MATH 168',\n",
       "    'I am by no means a “math god” nor do I have the fondest memories of MATH 61 but I am interested in taking MATH 168 this fall for my final math elective. Does anyone have experience on the course and could possibly elaborate on its content, difficulty, etc. compared to other upper division courses? I’m worried I won’t be able to understand all the theory in the course but I would like to learn more about networks. Thanks!')],\n",
       "  'comments': [('Currently a first year looking into become a quant trader. I am planning on double majoring in math of comp and statistics. If anyone has recommendations on classes (lower and upper div) to take that are important for the field please let me know. Also any advice on how to go about being competitive for internships would be very helpful. Thank you!',\n",
       "    'Not a quant but i remember my friend who is currently one said Stats C183 (financial models in statistics) was insanely helpful for his interview. Its offered every spring by Christou (who i personally enjoyed, everyone says he hards but you learn soooo much).\\n\\nIm a 4 yr math of comp and stats and think both majors are great for math, coding and stats background (which you can go into so many tech/business fields depending on the electives you take and what interests you)!'),\n",
       "   ('Im a senior this year and spring 2023 will be my last quarter. What classes/ professors (preferably offered in spring) have inspired you the most and/or made you think “everyone needs to take this class” ?',\n",
       "    'Haha, im a cs-adjacent major so i know the evil behind that class'),\n",
       "   ('Im a senior this year and spring 2023 will be my last quarter. What classes/ professors (preferably offered in spring) have inspired you the most and/or made you think “everyone needs to take this class” ?',\n",
       "    'That sounds scary but super cool at the same time, ty!'),\n",
       "   ('Im a senior this year and spring 2023 will be my last quarter. What classes/ professors (preferably offered in spring) have inspired you the most and/or made you think “everyone needs to take this class” ?',\n",
       "    'Yes totally agree (im a theater minor so i took it last fall)!'),\n",
       "   ('Im a senior this year and spring 2023 will be my last quarter. What classes/ professors (preferably offered in spring) have inspired you the most and/or made you think “everyone needs to take this class” ?',\n",
       "    'Ohhh thats awesome thank you!')]},\n",
       " 'Laserpigeons': {'posts': [(\"Not too fond of Carl's proposal to take 87% of surplus Fall funds from student fees and pay them directly to USAC staff\",\n",
       "    'Do better going forward, big fella')],\n",
       "  'comments': [('And what was your field of study? I’ll go first:\\n\\nI was an average economics kid and now I make $70k in corporate finance/accounting!',\n",
       "    \"CSE (+ tech breadth in EE) class of '22, 3.68 GPA, SWE in LA $170k\\n\\nPretty much lucked into the job though, and had several internships during college. This isn't the norm.\"),\n",
       "   ('', '*You’re 5000 candles in the wind*'),\n",
       "   (\"Man, I don’t why I began more and more infatuated these days like when I was in high school I could give less shit about these. Now with moving into college and going through classes and talking with all these fine young bitches I began becoming more lustful each day. Stressballing with my classes. This place is a fuking nerd nuthouse. Full of pretentious phony snobs kissing each other's ass yet deep in their hearts they all fuking fuking each other. Can't everyone just go ease on one another and be nice? I know this is LA Like the fuking movie American psycho. It is so fuking distracting. I want to find a fuking girlfriend and get out of this place. Every day I walk down to campus and take a 2-hour breath class full of 200 people and leave. This fuking sucks and it was fuking boring, and I gotta continue to do this for four years. I am done with this place. I am fuking done with my depressing introverted personality in going through this college, I gonna take to some girls and start a real life. College sucks. Drop out and start a business if you can.\",\n",
       "    '>\\tCollege sucks. Drop out and start a business if you can.\\n\\nI hear this advice a lot from people who have neither gotten a degree nor started a business'),\n",
       "   ('', 'Dunkey was right on both of those'),\n",
       "   (\"Got over chlamydia and dont wanna get it again but hate condoms. \\n\\nI'm the infamous fboy and if you dont know who that is you live under a rock bae \\n\\nwill need to show test results because I do not plan to go without sex for 2 weeks ever again in my life\",\n",
       "    'Don’t you throw parties, like, professionally? I guarantee your chances of success are better there than on reddit')]},\n",
       " 'Alec11': {'posts': [], 'comments': []}}"
      ]
     },
     "execution_count": 3,
     "metadata": {},
     "output_type": "execute_result"
    }
   ],
   "source": [
    "user_content"
   ]
  },
  {
   "cell_type": "code",
   "execution_count": 4,
   "metadata": {},
   "outputs": [
    {
     "name": "stderr",
     "output_type": "stream",
     "text": [
      "Your text contains a trailing whitespace, which has been trimmed to ensure high quality generations.\n",
      "Your text contains a trailing whitespace, which has been trimmed to ensure high quality generations.\n",
      "Your text contains a trailing whitespace, which has been trimmed to ensure high quality generations.\n",
      "Your text contains a trailing whitespace, which has been trimmed to ensure high quality generations.\n",
      "Your text contains a trailing whitespace, which has been trimmed to ensure high quality generations.\n"
     ]
    }
   ],
   "source": [
    "from generate_prompt import generate_prompt, format_prompt\n",
    "import pandas as pd\n",
    "\n",
    "outputs = []\n",
    "for user, content in user_content.items():\n",
    "    outputs.append({\n",
    "        \"username\": user,\n",
    "        \"standard\":\n",
    "            generate_prompt(format_prompt(\n",
    "                content[\"comments\"], content[\"posts\"], response_beginning=\"This person is\"), temp=2),\n",
    "        \"cooler\": generate_prompt(format_prompt(\n",
    "                content[\"comments\"], content[\"posts\"], response_beginning=\"This person is\"), temp=1), \n",
    "        \"unprompted\": generate_prompt(format_prompt(content[\"comments\"], content[\"posts\"], response_beginning=\"\"))\n",
    "    })\n",
    "\n",
    "# make a pandas dataframe from outputs\n",
    "df = pd.DataFrame(outputs)\n"
   ]
  }
 ],
 "metadata": {
  "kernelspec": {
   "display_name": "Rebbit-Mirror-mrVWAFHg",
   "language": "python",
   "name": "python3"
  },
  "language_info": {
   "codemirror_mode": {
    "name": "ipython",
    "version": 3
   },
   "file_extension": ".py",
   "mimetype": "text/x-python",
   "name": "python",
   "nbconvert_exporter": "python",
   "pygments_lexer": "ipython3",
   "version": "3.9.16"
  },
  "orig_nbformat": 4
 },
 "nbformat": 4,
 "nbformat_minor": 2
}
