{
 "cells": [
  {
   "cell_type": "code",
   "execution_count": 1,
   "metadata": {},
   "outputs": [],
   "source": [
    "import numpy as np\n",
    "import pandas as pd\n",
    "\n",
    "prompt_df = pd.read_parquet(\"./data/metadata-large.parquet\", columns=[\"prompt\"])"
   ]
  },
  {
   "cell_type": "code",
   "execution_count": 2,
   "metadata": {},
   "outputs": [],
   "source": [
    "import nltk\n",
    "from nltk.corpus import words\n",
    "\n",
    "english_dict = set(words.words())"
   ]
  },
  {
   "cell_type": "code",
   "execution_count": 3,
   "metadata": {},
   "outputs": [],
   "source": [
    "filtered = prompt_df[prompt_df.prompt.apply(lambda x: all(word in english_dict for word in x.split()))]"
   ]
  },
  {
   "cell_type": "code",
   "execution_count": 10,
   "metadata": {},
   "outputs": [],
   "source": [
    "# filter the prompt column for entries containing the word face, portrait, person, or human.\n",
    "filtered_more = filtered.loc[filtered.prompt.str.contains(\"face|person|human\", case=False, regex=True) & ~filtered.prompt.str.contains(\n",
    "    \"[\\(\\)\\[\\]\\|]|fantasy|illustration|painting|art\", case=False, regex=True), ]\n",
    "\n",
    "# remove duplicate prompts\n",
    "filtered_more = filtered_more.drop_duplicates()\n"
   ]
  },
  {
   "cell_type": "code",
   "execution_count": 22,
   "metadata": {},
   "outputs": [
    {
     "name": "stdout",
     "output_type": "stream",
     "text": [
      "(428837, 1)\n"
     ]
    },
    {
     "data": {
      "text/plain": [
       "0     beautiful porcelain ivory fair face woman biom...\n",
       "1     complex 3 d render hyper detailed ultra sharp ...\n",
       "15    complex 3 d render hyper detailed ultra sharp ...\n",
       "16    complex 3 d render hyper detailed ultra sharp ...\n",
       "33    complex 3 d render hyper detailed ultra sharp ...\n",
       "Name: prompt, dtype: object"
      ]
     },
     "execution_count": 22,
     "metadata": {},
     "output_type": "execute_result"
    }
   ],
   "source": [
    "print(filtered.shape)\n",
    "\n",
    "filtered.prompt.head()"
   ]
  },
  {
   "cell_type": "code",
   "execution_count": 12,
   "metadata": {},
   "outputs": [],
   "source": [
    "cohere_prompt = \"Using the comments and posts made by this specific user, analyze their characteristics, personality, and word use to write me a prompt to generate one image of the person. The prompt should describe the user's face, facial hair, body, emotions, what they are doing, and their surroundings.\\n\\nThe prompt:\"\n"
   ]
  },
  {
   "cell_type": "code",
   "execution_count": 19,
   "metadata": {},
   "outputs": [],
   "source": [
    "downsampled = filtered.sample(n=50000)\n",
    "\n",
    "\n",
    "# open text file\n",
    "with open(\"./data/cohere_prompts.txt\", \"w\") as f:\n",
    "    # for each prompt in filtered, write to a text file\n",
    "    for index, row in downsampled.iterrows():\n",
    "        f.write(cohere_prompt + \" \" + row[\"prompt\"] + \"\\n--\\n\")\n"
   ]
  },
  {
   "cell_type": "code",
   "execution_count": 14,
   "metadata": {},
   "outputs": [],
   "source": [
    "df = pd.read_csv(\"./data/DALL-E_prompt_training - Sheet1.csv\")\n",
    "\n",
    "with open(\"./data/cohere_prompts.txt\", \"w\") as f:\n",
    "    # for each prompt in filtered, write to a text file\n",
    "    for index, row in df.iterrows():\n",
    "        f.write(cohere_prompt + \" \" + row[\"Prompt\"] + \"\\n--\\n\")"
   ]
  }
 ],
 "metadata": {
  "kernelspec": {
   "display_name": "Rebbit-Mirror-mrVWAFHg",
   "language": "python",
   "name": "python3"
  },
  "language_info": {
   "codemirror_mode": {
    "name": "ipython",
    "version": 3
   },
   "file_extension": ".py",
   "mimetype": "text/x-python",
   "name": "python",
   "nbconvert_exporter": "python",
   "pygments_lexer": "ipython3",
   "version": "3.9.16"
  },
  "orig_nbformat": 4
 },
 "nbformat": 4,
 "nbformat_minor": 2
}
